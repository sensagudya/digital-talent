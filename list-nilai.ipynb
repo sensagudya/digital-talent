{
 "cells": [
  {
   "cell_type": "markdown",
   "metadata": {},
   "source": [
    "# LATIHAN 2 (List Nilai)"
   ]
  },
  {
   "cell_type": "code",
   "execution_count": 21,
   "metadata": {},
   "outputs": [],
   "source": [
    "# import library\n",
    "import random\n",
    "import numpy as np\n",
    "from scipy import stats"
   ]
  },
  {
   "cell_type": "code",
   "execution_count": 2,
   "metadata": {},
   "outputs": [
    {
     "name": "stdout",
     "output_type": "stream",
     "text": [
      "[31, 61, 56, 1, 21, 76, 66, 31, 21, 31, 36, 21, 91, 71, 1, 86, 31, 86, 36, 91, 81, 71, 86, 91, 71, 26, 76, 96, 31, 31, 41, 66, 61, 86, 61, 36, 91, 31, 1, 21, 51, 41, 1, 81, 86, 61, 51, 96, 16, 71, 46, 6, 1, 66, 96, 61, 21, 46, 51, 21, 81, 1, 96, 16, 1, 76, 16, 21, 91, 31, 91, 86, 26, 76, 41, 31, 76, 16, 61, 66, 81, 41, 36, 66, 56, 21, 31, 36, 11, 76, 66, 31, 61, 11, 26, 81, 41, 51, 21, 41, 11, 46, 81, 51, 91, 91, 61, 11, 91, 16, 66, 81, 71, 16, 91, 1, 96, 11, 76, 96, 56, 66, 86, 86, 56, 91, 31, 31, 36, 36, 61, 51, 41, 56, 51, 6, 91, 71, 11, 71, 66, 91, 41, 41, 86, 21, 36, 16, 16, 76, 56, 56, 76, 16, 26, 21, 96, 11, 91, 76, 71, 31, 51, 6, 6, 26, 86, 31, 46, 86, 26, 56, 51, 71, 21, 56, 31, 81, 76, 76, 21, 36, 16, 51, 21, 11, 76, 46, 6, 61, 46, 6, 6, 11, 76, 16, 86, 51, 51, 96, 6, 81, 46, 51, 6, 6, 66, 26, 86, 11, 81, 91, 81, 66, 61, 26, 31, 86, 31, 41, 61, 16, 61, 51, 26, 1, 86, 71, 36, 51, 21, 1, 16, 61, 6, 41, 66, 21, 96, 11, 71, 6, 56, 96, 96, 6, 21, 11, 36, 86]\n"
     ]
    }
   ],
   "source": [
    "# generate nilai random \n",
    "nilaiTugas = []\n",
    "\n",
    "for i in range(250) :\n",
    "    nilaiTugas.append(random.randrange(1,100,5))\n",
    "print(nilaiTugas)"
   ]
  },
  {
   "cell_type": "code",
   "execution_count": 30,
   "metadata": {},
   "outputs": [
    {
     "name": "stdout",
     "output_type": "stream",
     "text": [
      "[31, 61, 56, 1, 21, 76, 66, 36, 91, 71, 86, 81, 26, 96, 41, 51, 16, 46, 6, 11]\n"
     ]
    }
   ],
   "source": [
    "# get unique items\n",
    "new_list = []\n",
    "\n",
    "for num in nilaiTugas :\n",
    "    if num not in new_list :\n",
    "        new_list.append(num)\n",
    "\n",
    "print new_list"
   ]
  },
  {
   "cell_type": "code",
   "execution_count": 5,
   "metadata": {},
   "outputs": [
    {
     "name": "stdout",
     "output_type": "stream",
     "text": [
      "[31, 61, 1, 21, 91, 71, 81, 41, 51, 11]\n"
     ]
    }
   ],
   "source": [
    "# assign odd value\n",
    "ganjil = []\n",
    "\n",
    "for score in new_list :\n",
    "    if score % 2 == 1 :\n",
    "        ganjil.append(score)\n",
    "        \n",
    "print(ganjil)"
   ]
  },
  {
   "cell_type": "code",
   "execution_count": 6,
   "metadata": {},
   "outputs": [
    {
     "name": "stdout",
     "output_type": "stream",
     "text": [
      "[76, 91, 71, 86, 81, 96]\n"
     ]
    }
   ],
   "source": [
    "# assign value that more than 70\n",
    "bilangan = []\n",
    "\n",
    "for score in new_list :\n",
    "    if score > 70 :\n",
    "        bilangan.append(score)\n",
    "        \n",
    "print(bilangan)"
   ]
  },
  {
   "cell_type": "code",
   "execution_count": 11,
   "metadata": {},
   "outputs": [
    {
     "data": {
      "text/plain": [
       "29.024127893874777"
      ]
     },
     "execution_count": 11,
     "metadata": {},
     "output_type": "execute_result"
    }
   ],
   "source": [
    "# assign standard deviation\n",
    "np.std(nilaiTugas)"
   ]
  },
  {
   "cell_type": "code",
   "execution_count": 12,
   "metadata": {},
   "outputs": [
    {
     "data": {
      "text/plain": [
       "96"
      ]
     },
     "execution_count": 12,
     "metadata": {},
     "output_type": "execute_result"
    }
   ],
   "source": [
    "# assign max value\n",
    "np.max(nilaiTugas)"
   ]
  },
  {
   "cell_type": "code",
   "execution_count": 13,
   "metadata": {},
   "outputs": [
    {
     "data": {
      "text/plain": [
       "1"
      ]
     },
     "execution_count": 13,
     "metadata": {},
     "output_type": "execute_result"
    }
   ],
   "source": [
    "# assign min value\n",
    "np.min(nilaiTugas)"
   ]
  },
  {
   "cell_type": "code",
   "execution_count": 24,
   "metadata": {},
   "outputs": [
    {
     "data": {
      "text/plain": [
       "ModeResult(mode=array([31]), count=array([18]))"
      ]
     },
     "execution_count": 24,
     "metadata": {},
     "output_type": "execute_result"
    }
   ],
   "source": [
    "# assign mode\n",
    "stats.mode(nilaiTugas)"
   ]
  }
 ],
 "metadata": {
  "kernelspec": {
   "display_name": "Python 2",
   "language": "python",
   "name": "python2"
  },
  "language_info": {
   "codemirror_mode": {
    "name": "ipython",
    "version": 2
   },
   "file_extension": ".py",
   "mimetype": "text/x-python",
   "name": "python",
   "nbconvert_exporter": "python",
   "pygments_lexer": "ipython2",
   "version": "2.7.15"
  }
 },
 "nbformat": 4,
 "nbformat_minor": 2
}
