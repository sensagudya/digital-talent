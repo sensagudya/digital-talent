{
 "cells": [
  {
   "cell_type": "markdown",
   "metadata": {},
   "source": [
    "# LATIHAN 2 (List Nilai)"
   ]
  },
  {
   "cell_type": "code",
   "execution_count": 8,
   "metadata": {},
   "outputs": [],
   "source": [
    "# import library\n",
    "import random\n",
    "import math"
   ]
  },
  {
   "cell_type": "code",
   "execution_count": 2,
   "metadata": {},
   "outputs": [
    {
     "name": "stdout",
     "output_type": "stream",
     "text": [
      "[56, 16, 56, 6, 1, 16, 96, 51, 56, 76, 11, 46, 86, 81, 56, 76, 36, 21, 96, 96, 16, 76, 31, 11, 56, 66, 86, 86, 51, 81, 66, 26, 41, 71, 86, 61, 1, 71, 11, 26, 11, 96, 51, 31, 96, 61, 66, 71, 31, 16, 96, 81, 76, 91, 96, 96, 66, 6, 81, 86, 51, 91, 61, 66, 26, 41, 36, 26, 81, 6, 41, 81, 91, 91, 36, 11, 51, 66, 51, 71, 91, 71, 91, 56, 56, 1, 76, 66, 51, 91, 66, 26, 96, 76, 16, 71, 56, 21, 31, 26, 26, 21, 41, 96, 86, 31, 36, 16, 36, 46, 51, 96, 81, 41, 1, 91, 16, 16, 81, 1, 91, 21, 76, 41, 11, 21, 21, 21, 6, 91, 96, 36, 81, 41, 41, 96, 46, 91, 6, 66, 31, 1, 6, 31, 16, 21, 71, 21, 51, 46, 61, 96, 96, 66, 21, 21, 61, 91, 61, 91, 46, 41, 51, 26, 86, 56, 21, 36, 26, 11, 21, 76, 16, 26, 21, 41, 51, 16, 16, 46, 81, 1, 56, 76, 41, 11, 76, 66, 11, 66, 6, 41, 36, 36, 46, 76, 26, 81, 31, 11, 66, 91, 1, 16, 16, 41, 76, 76, 6, 86, 41, 11, 41, 61, 46, 86, 61, 6, 71, 6, 56, 41, 81, 51, 36, 11, 96, 26, 76, 16, 61, 31, 41, 16, 11, 51, 41, 6, 51, 31, 76, 86, 91, 11, 1, 56, 6, 91, 66, 56]\n"
     ]
    }
   ],
   "source": [
    "# generate random value\n",
    "nilaiTugas = []\n",
    "\n",
    "for i in range(250) :\n",
    "    nilaiTugas.append(random.randrange(1,100,5))\n",
    "print(nilaiTugas)"
   ]
  },
  {
   "cell_type": "code",
   "execution_count": 19,
   "metadata": {},
   "outputs": [
    {
     "name": "stdout",
     "output_type": "stream",
     "text": [
      "[56, 16, 6, 1, 96, 51, 76, 11, 46, 86, 81, 36, 21, 31, 66, 26, 41, 71, 61, 91]\n"
     ]
    }
   ],
   "source": [
    "# get unique items\n",
    "new_list = []\n",
    "\n",
    "for num in nilaiTugas :\n",
    "    if num not in new_list :\n",
    "        new_list.append(num)\n",
    "\n",
    "print(new_list)"
   ]
  },
  {
   "cell_type": "code",
   "execution_count": 4,
   "metadata": {},
   "outputs": [
    {
     "name": "stdout",
     "output_type": "stream",
     "text": [
      "[1, 51, 11, 81, 21, 31, 41, 71, 61, 91]\n"
     ]
    }
   ],
   "source": [
    "# assign odd value\n",
    "ganjil = []\n",
    "\n",
    "for score in new_list :\n",
    "    if score % 2 == 1 :\n",
    "        ganjil.append(score)\n",
    "        \n",
    "print(ganjil)"
   ]
  },
  {
   "cell_type": "code",
   "execution_count": 7,
   "metadata": {},
   "outputs": [
    {
     "name": "stdout",
     "output_type": "stream",
     "text": [
      "[96, 76, 86, 81, 71, 91]\n"
     ]
    }
   ],
   "source": [
    "# assign value that more than 70\n",
    "bilangan = []\n",
    "\n",
    "for score in new_list :\n",
    "    if score > 70 :\n",
    "        bilangan.append(score)\n",
    "        \n",
    "print(bilangan)"
   ]
  },
  {
   "cell_type": "code",
   "execution_count": 15,
   "metadata": {},
   "outputs": [
    {
     "name": "stdout",
     "output_type": "stream",
     "text": [
      "29.3428015022\n"
     ]
    }
   ],
   "source": [
    "# assign standard deviation\n",
    "# stdev = sqrt((sum of deviation / (items - 1)))\n",
    "\n",
    "# inisialisasi\n",
    "score_total = 0\n",
    "mean = 0\n",
    "deviasi = []\n",
    "total_deviasi = 0\n",
    "item = len(nilaiTugas)\n",
    "\n",
    "# calculate sum of nilaiTugas\n",
    "for score in nilaiTugas:\n",
    "    score_total = score_total + score\n",
    "\n",
    "# assign mean\n",
    "mean = score_total / item\n",
    "\n",
    "# calculate deviation, deviation is (nilaiTugas[] - mean)^2\n",
    "for score in nilaiTugas :\n",
    "    a = (score - mean) ** 2\n",
    "    deviasi.append(a)\n",
    "    \n",
    "for dev in deviasi :\n",
    "    total_deviasi = total_deviasi + dev\n",
    "\n",
    "#calculate standard deviation\n",
    "x = total_deviasi / (item - 1)\n",
    "stdev = math.sqrt(x)\n",
    "\n",
    "# print(score_total)\n",
    "# print(mean)\n",
    "# print(total_deviasi)\n",
    "print(stdev)"
   ]
  },
  {
   "cell_type": "code",
   "execution_count": 38,
   "metadata": {},
   "outputs": [
    {
     "name": "stdout",
     "output_type": "stream",
     "text": [
      "96\n",
      "1\n"
     ]
    }
   ],
   "source": [
    "# assign max - min value\n",
    "max_value = new_list[0]\n",
    "min_value = new_list[0]\n",
    "\n",
    "for score in new_list :\n",
    "    if score > max_value :\n",
    "        max_value = score\n",
    "\n",
    "for score in new_list :\n",
    "    if score < min_value :\n",
    "        min_value = score\n",
    "    \n",
    "print(max_value)\n",
    "print(min_value)"
   ]
  },
  {
   "cell_type": "code",
   "execution_count": 43,
   "metadata": {},
   "outputs": [
    {
     "name": "stdout",
     "output_type": "stream",
     "text": [
      "{96: 16, 1: 9, 66: 14, 36: 10, 6: 12, 71: 8, 41: 18, 11: 14, 76: 15, 46: 8, 16: 16, 81: 12, 51: 14, 21: 14, 86: 10, 56: 13, 26: 12, 91: 16, 61: 9, 31: 10}\n",
      "(41, 18)\n"
     ]
    }
   ],
   "source": [
    "# assign mode\n",
    "# mode in dictionary\n",
    "\n",
    "mode = {}\n",
    "\n",
    "# count kemunculan nilai\n",
    "for score in nilaiTugas :\n",
    "    if score in mode :\n",
    "        mode[score] = mode[score] + 1\n",
    "    else:\n",
    "        mode[score] = 1\n",
    "        \n",
    "print(mode)\n",
    "\n",
    "# assign score dengan kemunculan terbanyak\n",
    "kemunculan = 1\n",
    "mode_value = 0\n",
    "\n",
    "for val in mode :\n",
    "    if mode[val] > kemunculan :\n",
    "        kemunculan = mode[val]\n",
    "        mode_value = val\n",
    "print(mode_value, kemunculan)"
   ]
  }
 ],
 "metadata": {
  "kernelspec": {
   "display_name": "Python 2",
   "language": "python",
   "name": "python2"
  },
  "language_info": {
   "codemirror_mode": {
    "name": "ipython",
    "version": 2
   },
   "file_extension": ".py",
   "mimetype": "text/x-python",
   "name": "python",
   "nbconvert_exporter": "python",
   "pygments_lexer": "ipython2",
   "version": "2.7.15"
  }
 },
 "nbformat": 4,
 "nbformat_minor": 2
}
