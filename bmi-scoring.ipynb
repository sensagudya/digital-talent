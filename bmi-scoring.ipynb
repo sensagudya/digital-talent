{
 "cells": [
  {
   "cell_type": "markdown",
   "metadata": {},
   "source": [
    "# BMI Scoring and Categorizing"
   ]
  },
  {
   "cell_type": "code",
   "execution_count": 1,
   "metadata": {},
   "outputs": [
    {
     "name": "stdout",
     "output_type": "stream",
     "text": [
      "Enter your weight in KG (ex = 50.0) = 47.5\n",
      "Enter your height in CM (ex = 170.0) = 160.0\n",
      "Your BMI is 18.5546875 in category normal.\n"
     ]
    }
   ],
   "source": [
    "# Input weight and height manually\n",
    "weight = input('Enter your weight in KG (ex = 50.0) = ')\n",
    "height = input('Enter your height in CM (ex = 170.0) = ')\n",
    "\n",
    "# Calculate BMI score\n",
    "bmi = weight / ((height / 100) ** 2)\n",
    "\n",
    "# Conditional states\n",
    "if bmi < 15 :\n",
    "    print(\"Your BMI is \" + str(bmi) + \" in category very severely underweight.\")\n",
    "elif 15 <= bmi < 16 :\n",
    "    print(\"Your BMI is \" + str(bmi) + \" in category severely underweight.\")\n",
    "elif 16 <= bmi < 18.5 :\n",
    "    print(\"Your BMI is \" + str(bmi) + \" in category very underweight.\")\n",
    "elif 18.5 <= bmi < 25 :\n",
    "    print(\"Your BMI is \" + str(bmi) + \" in category normal.\")\n",
    "elif 25 <= bmi < 30 :\n",
    "    print(\"Your BMI is \" + str(bmi) + \" in category overweight.\")\n",
    "elif 30 <= bmi < 35 :\n",
    "    print(\"Your BMI is \" + str(bmi) + \" in category moderately obese.\")\n",
    "elif 35 <= bmi < 40 :\n",
    "    print(\"Your BMI is \" + str(bmi) + \" in category severely obese.\")\n",
    "else : \n",
    "    print(\"Your BMI is \" + str(bmi) + \" in category very severely obsese.\")"
   ]
  }
 ],
 "metadata": {
  "kernelspec": {
   "display_name": "Python 2",
   "language": "python",
   "name": "python2"
  },
  "language_info": {
   "codemirror_mode": {
    "name": "ipython",
    "version": 2
   },
   "file_extension": ".py",
   "mimetype": "text/x-python",
   "name": "python",
   "nbconvert_exporter": "python",
   "pygments_lexer": "ipython2",
   "version": "2.7.15"
  }
 },
 "nbformat": 4,
 "nbformat_minor": 2
}
